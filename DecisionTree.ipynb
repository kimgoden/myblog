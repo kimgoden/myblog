{
  "nbformat": 4,
  "nbformat_minor": 0,
  "metadata": {
    "colab": {
      "name": "Untitled6.ipynb",
      "provenance": [],
      "authorship_tag": "ABX9TyOqYo6YwFukaoKxVAAMsw1o",
      "include_colab_link": true
    },
    "kernelspec": {
      "name": "python3",
      "display_name": "Python 3"
    },
    "language_info": {
      "name": "python"
    }
  },
  "cells": [
    {
      "cell_type": "markdown",
      "metadata": {
        "id": "view-in-github",
        "colab_type": "text"
      },
      "source": [
        "<a href=\"https://colab.research.google.com/github/kimgoden/myblog/blob/main/DecisionTree.ipynb\" target=\"_parent\"><img src=\"https://colab.research.google.com/assets/colab-badge.svg\" alt=\"Open In Colab\"/></a>"
      ]
    },
    {
      "cell_type": "markdown",
      "metadata": {
        "id": "FBFO3gw72bJ2"
      },
      "source": [
        "# 머신러닝 모델"
      ]
    },
    {
      "cell_type": "markdown",
      "metadata": {
        "id": "md-z9ftf3CRD"
      },
      "source": [
        "## Decison Tree\n",
        " - Decison Tree(결정트리) 는 분류, 회귀 모두 가능한 지도 학습 모델 중 하나다.\n",
        " - 결정 트리는 특정 기준(질문)에 따라 데이터를 구분하는 모델이다.\n",
        " - 이러한 방식으로 데이터를 분류하는 것은 스무고개와 유사한 방식으로 이루어진다.\n",
        "\n",
        " ![](/images/DecisonTree/tt.png)\n",
        "\n",
        " "
      ]
    },
    {
      "cell_type": "markdown",
      "metadata": {
        "id": "oZwt0xQn55ox"
      },
      "source": [
        "### 결정트리 알고리즘\n",
        "- 용어\n",
        "   - Node(노드) : 결정트리에서 질문이나 정답을 담은 네모 상자(분기점)\n",
        "   - Root Ndoe(루트노드) : 깊이가 0인 가장 위의 노드\n",
        "   - Leaf Node(리프노드) : 자식 노드가 없는 마지막 노드\n",
        "- 진행과정\n",
        "  1. 첫번째로 root node(꼭대기)에서 시작한다.\n",
        "  2. 다리가 있나요? 라는 질문을 검사한다(조건에 따라 좌우 분기)\n",
        "  3. 만약 '아니' 라면 오른쪽으로 이동해 root node에서 했던 조건의 검사를 실시하여 반복한다.\n",
        "  4. 마지막에 leaf node(끝) 에 도달했을 때, 추가적인 조건 검사 없이 가장 많은 클래스의 비중을 차지하고 있는 곳으로 클래스를 예측하게된다.(토끼,강아지)(고래,소라고동)\n",
        "\n",
        "\n",
        "- 결정 트리의 장점은 스케일이나 평균으 원점에 맞추는 것같은 데이터 전처리가 거의 필요하지 않다. 또 매우 직관적이고 이해하기 쉬우며 동시에 해석력이 좋다.\n",
        "\n",
        "- 반대로 방식이 매우 단순하기 때문에 이를 극복하기 위해 랜덤 포레스트(Random Forest)를 사용할 수 있다.\n",
        "- 그러나 새로운 데이터가 반영될 때 마다 숲(Forest)를 다시 만들어줘야 하기 때문에 풀고자하는 문제에 비해 계산량이 많아진다는 단점이 있다."
      ]
    },
    {
      "cell_type": "markdown",
      "metadata": {
        "id": "IHGF9pCuA18a"
      },
      "source": [
        "### Decison Tree 예제\n",
        "- 결정트리를 이해하기 쉽게 `Sklearn`에서 제공하는 데이터셋을 이용한 예제다."
      ]
    },
    {
      "cell_type": "code",
      "metadata": {
        "colab": {
          "base_uri": "https://localhost:8080/"
        },
        "id": "jIpLRKN_2aI7",
        "outputId": "97f78f3d-5714-4837-f0df-7a824a42de31"
      },
      "source": [
        "from sklearn.tree import DecisionTreeClassifier\n",
        "# 싸이킷런 데이터를 의사결정 트리를 임포트 해준다.\n",
        "from sklearn.datasets import load_breast_cancer\n",
        "# 싸이킷런에서 제공하는 유방암 데이터를 가져온다.\n",
        "from sklearn.model_selection import train_test_split\n",
        "# 분석에 이용할 train, test 함수를 선언해준다.\n",
        "\n",
        "cancer = load_breast_cancer()\n",
        "# 샘플 데이터(유방암 데이터)를 로드해준다.\n",
        "\n",
        "X_train, X_test, y_train, y_test = train_test_split(\n",
        "    cancer.data, cancer.target, stratify=cancer.target, random_state=42)\n",
        "# 훈련, 테스트 데이터를 셔플해준다.\n",
        "\n",
        "tree = DecisionTreeClassifier(random_state=0)\n",
        "# 의사결정 트리 선언\n",
        "\n",
        "tree.fit(X_train, y_train)\n",
        "# 훈련 시작(모든 리프 노드를 사용한다)\n",
        "\n",
        "print(\"훈련 세트 정확도: {:.3f}\".format(tree.score(X_train, y_train)))\n",
        "print(\"테스트 세트 정확도: {:.3f}\".format(tree.score(X_test, y_test)))\n",
        "#점수를 출력한다."
      ],
      "execution_count": 26,
      "outputs": [
        {
          "output_type": "stream",
          "name": "stdout",
          "text": [
            "훈련 세트 정확도: 1.000\n",
            "테스트 세트 정확도: 0.937\n"
          ]
        }
      ]
    },
    {
      "cell_type": "code",
      "metadata": {
        "colab": {
          "base_uri": "https://localhost:8080/"
        },
        "id": "4FjUQCPE4YM5",
        "outputId": "ba676318-0677-44ba-da1d-691b52514dc6"
      },
      "source": [
        "tree = DecisionTreeClassifier(max_depth=4, random_state=0)\n",
        "#의사결정 트리 선언, 이때 트리 깊이(분기)를 제한해준다.\n",
        "\n",
        "tree.fit(X_train, y_train)\n",
        "#훈련시작, 이때 리프노드의 깊이를 제한한다.\n",
        "\n",
        "print(\"훈련 세트 정확도: {:.3f}\".format(tree.score(X_train, y_train)))\n",
        "print(\"테스트 세트 정확도: {:.3f}\".format(tree.score(X_test, y_test)))\n",
        "#점수를 출력한다.\n",
        "\n"
      ],
      "execution_count": 27,
      "outputs": [
        {
          "output_type": "stream",
          "name": "stdout",
          "text": [
            "훈련 세트 정확도: 0.988\n",
            "테스트 세트 정확도: 0.951\n"
          ]
        }
      ]
    },
    {
      "cell_type": "markdown",
      "metadata": {
        "id": "VVk7m8VatGxm"
      },
      "source": [
        "- 결정 트리 모듈 시각화 및 분석\n",
        " + `export_graphviz` 함수를 이용해 트리를 시각화\n",
        " + `export_graphviz` 함수에 filled 매개변수를 True로 지정하면 노드의 클래스가 구분되도록 색으로 칠해진다.\n",
        " + 클래스 이름과 특성 이름을 매개변수로 전달"
      ]
    },
    {
      "cell_type": "code",
      "metadata": {
        "id": "avlKKs4Is_j0"
      },
      "source": [
        "from sklearn.tree import export_graphviz\n",
        "export_graphviz(tree, out_file=\"tree.dot\", class_names=[\"악성\", \"양성\"],\n",
        "                feature_names=cancer.feature_names,\n",
        "                impurity=False, filled=True)"
      ],
      "execution_count": 28,
      "outputs": []
    },
    {
      "cell_type": "markdown",
      "metadata": {
        "id": "GDPXNfOftwjE"
      },
      "source": [
        "  + `graphviz` 모듈을 사용해 시각화한다.\n"
      ]
    },
    {
      "cell_type": "code",
      "metadata": {
        "colab": {
          "base_uri": "https://localhost:8080/",
          "height": 676
        },
        "id": "QF8Wu16RtCCE",
        "outputId": "c6dfbda6-6ad5-4089-b3d6-05edd5a772da"
      },
      "source": [
        "import graphviz\n",
        "\n",
        "with open(\"tree.dot\") as f:\n",
        "    dot_graph = f.read()\n",
        "display(graphviz.Source(dot_graph))"
      ],
      "execution_count": 29,
      "outputs": [
        {
          "output_type": "display_data",
          "data": {
            "text/plain": [
              "<graphviz.files.Source at 0x7fe9aa017e90>"
            ],
            "image/svg+xml": "<?xml version=\"1.0\" encoding=\"UTF-8\" standalone=\"no\"?>\n<!DOCTYPE svg PUBLIC \"-//W3C//DTD SVG 1.1//EN\"\n \"http://www.w3.org/Graphics/SVG/1.1/DTD/svg11.dtd\">\n<!-- Generated by graphviz version 2.40.1 (20161225.0304)\n -->\n<!-- Title: Tree Pages: 1 -->\n<svg width=\"1030pt\" height=\"477pt\"\n viewBox=\"0.00 0.00 1029.50 477.00\" xmlns=\"http://www.w3.org/2000/svg\" xmlns:xlink=\"http://www.w3.org/1999/xlink\">\n<g id=\"graph0\" class=\"graph\" transform=\"scale(1 1) rotate(0) translate(4 473)\">\n<title>Tree</title>\n<polygon fill=\"#ffffff\" stroke=\"transparent\" points=\"-4,4 -4,-473 1025.5,-473 1025.5,4 -4,4\"/>\n<!-- 0 -->\n<g id=\"node1\" class=\"node\">\n<title>0</title>\n<polygon fill=\"#afd7f4\" stroke=\"#000000\" points=\"649.5,-469 497.5,-469 497.5,-401 649.5,-401 649.5,-469\"/>\n<text text-anchor=\"middle\" x=\"573.5\" y=\"-453.8\" font-family=\"Times,serif\" font-size=\"14.00\" fill=\"#000000\">worst radius &lt;= 16.795</text>\n<text text-anchor=\"middle\" x=\"573.5\" y=\"-438.8\" font-family=\"Times,serif\" font-size=\"14.00\" fill=\"#000000\">samples = 426</text>\n<text text-anchor=\"middle\" x=\"573.5\" y=\"-423.8\" font-family=\"Times,serif\" font-size=\"14.00\" fill=\"#000000\">value = [159, 267]</text>\n<text text-anchor=\"middle\" x=\"573.5\" y=\"-408.8\" font-family=\"Times,serif\" font-size=\"14.00\" fill=\"#000000\">class = 양성</text>\n</g>\n<!-- 1 -->\n<g id=\"node2\" class=\"node\">\n<title>1</title>\n<polygon fill=\"#4ca6e8\" stroke=\"#000000\" points=\"565,-365 370,-365 370,-297 565,-297 565,-365\"/>\n<text text-anchor=\"middle\" x=\"467.5\" y=\"-349.8\" font-family=\"Times,serif\" font-size=\"14.00\" fill=\"#000000\">worst concave points &lt;= 0.136</text>\n<text text-anchor=\"middle\" x=\"467.5\" y=\"-334.8\" font-family=\"Times,serif\" font-size=\"14.00\" fill=\"#000000\">samples = 284</text>\n<text text-anchor=\"middle\" x=\"467.5\" y=\"-319.8\" font-family=\"Times,serif\" font-size=\"14.00\" fill=\"#000000\">value = [25, 259]</text>\n<text text-anchor=\"middle\" x=\"467.5\" y=\"-304.8\" font-family=\"Times,serif\" font-size=\"14.00\" fill=\"#000000\">class = 양성</text>\n</g>\n<!-- 0&#45;&gt;1 -->\n<g id=\"edge1\" class=\"edge\">\n<title>0&#45;&gt;1</title>\n<path fill=\"none\" stroke=\"#000000\" d=\"M538.7916,-400.9465C529.4574,-391.7884 519.2604,-381.7838 509.5727,-372.2788\"/>\n<polygon fill=\"#000000\" stroke=\"#000000\" points=\"511.8757,-369.6351 502.2863,-365.13 506.9733,-374.6318 511.8757,-369.6351\"/>\n<text text-anchor=\"middle\" x=\"502.5244\" y=\"-386.4289\" font-family=\"Times,serif\" font-size=\"14.00\" fill=\"#000000\">True</text>\n</g>\n<!-- 14 -->\n<g id=\"node15\" class=\"node\">\n<title>14</title>\n<polygon fill=\"#e78945\" stroke=\"#000000\" points=\"733.5,-365 589.5,-365 589.5,-297 733.5,-297 733.5,-365\"/>\n<text text-anchor=\"middle\" x=\"661.5\" y=\"-349.8\" font-family=\"Times,serif\" font-size=\"14.00\" fill=\"#000000\">texture error &lt;= 0.473</text>\n<text text-anchor=\"middle\" x=\"661.5\" y=\"-334.8\" font-family=\"Times,serif\" font-size=\"14.00\" fill=\"#000000\">samples = 142</text>\n<text text-anchor=\"middle\" x=\"661.5\" y=\"-319.8\" font-family=\"Times,serif\" font-size=\"14.00\" fill=\"#000000\">value = [134, 8]</text>\n<text text-anchor=\"middle\" x=\"661.5\" y=\"-304.8\" font-family=\"Times,serif\" font-size=\"14.00\" fill=\"#000000\">class = 악성</text>\n</g>\n<!-- 0&#45;&gt;14 -->\n<g id=\"edge14\" class=\"edge\">\n<title>0&#45;&gt;14</title>\n<path fill=\"none\" stroke=\"#000000\" d=\"M602.3145,-400.9465C609.9117,-391.968 618.1974,-382.1758 626.0982,-372.8385\"/>\n<polygon fill=\"#000000\" stroke=\"#000000\" points=\"628.8332,-375.0247 632.6208,-365.13 623.4895,-370.5031 628.8332,-375.0247\"/>\n<text text-anchor=\"middle\" x=\"634.6969\" y=\"-386.3436\" font-family=\"Times,serif\" font-size=\"14.00\" fill=\"#000000\">False</text>\n</g>\n<!-- 2 -->\n<g id=\"node3\" class=\"node\">\n<title>2</title>\n<polygon fill=\"#3c9fe5\" stroke=\"#000000\" points=\"362.5,-261 222.5,-261 222.5,-193 362.5,-193 362.5,-261\"/>\n<text text-anchor=\"middle\" x=\"292.5\" y=\"-245.8\" font-family=\"Times,serif\" font-size=\"14.00\" fill=\"#000000\">radius error &lt;= 1.048</text>\n<text text-anchor=\"middle\" x=\"292.5\" y=\"-230.8\" font-family=\"Times,serif\" font-size=\"14.00\" fill=\"#000000\">samples = 252</text>\n<text text-anchor=\"middle\" x=\"292.5\" y=\"-215.8\" font-family=\"Times,serif\" font-size=\"14.00\" fill=\"#000000\">value = [4, 248]</text>\n<text text-anchor=\"middle\" x=\"292.5\" y=\"-200.8\" font-family=\"Times,serif\" font-size=\"14.00\" fill=\"#000000\">class = 양성</text>\n</g>\n<!-- 1&#45;&gt;2 -->\n<g id=\"edge2\" class=\"edge\">\n<title>1&#45;&gt;2</title>\n<path fill=\"none\" stroke=\"#000000\" d=\"M410.1985,-296.9465C393.7306,-287.1599 375.6362,-276.4066 358.6793,-266.3294\"/>\n<polygon fill=\"#000000\" stroke=\"#000000\" points=\"360.3149,-263.23 349.9303,-261.13 356.7387,-269.2476 360.3149,-263.23\"/>\n</g>\n<!-- 7 -->\n<g id=\"node8\" class=\"node\">\n<title>7</title>\n<polygon fill=\"#f3c3a1\" stroke=\"#000000\" points=\"542,-261 393,-261 393,-193 542,-193 542,-261\"/>\n<text text-anchor=\"middle\" x=\"467.5\" y=\"-245.8\" font-family=\"Times,serif\" font-size=\"14.00\" fill=\"#000000\">worst texture &lt;= 25.62</text>\n<text text-anchor=\"middle\" x=\"467.5\" y=\"-230.8\" font-family=\"Times,serif\" font-size=\"14.00\" fill=\"#000000\">samples = 32</text>\n<text text-anchor=\"middle\" x=\"467.5\" y=\"-215.8\" font-family=\"Times,serif\" font-size=\"14.00\" fill=\"#000000\">value = [21, 11]</text>\n<text text-anchor=\"middle\" x=\"467.5\" y=\"-200.8\" font-family=\"Times,serif\" font-size=\"14.00\" fill=\"#000000\">class = 악성</text>\n</g>\n<!-- 1&#45;&gt;7 -->\n<g id=\"edge7\" class=\"edge\">\n<title>1&#45;&gt;7</title>\n<path fill=\"none\" stroke=\"#000000\" d=\"M467.5,-296.9465C467.5,-288.776 467.5,-279.9318 467.5,-271.3697\"/>\n<polygon fill=\"#000000\" stroke=\"#000000\" points=\"471.0001,-271.13 467.5,-261.13 464.0001,-271.13 471.0001,-271.13\"/>\n</g>\n<!-- 3 -->\n<g id=\"node4\" class=\"node\">\n<title>3</title>\n<polygon fill=\"#3b9ee5\" stroke=\"#000000\" points=\"226.5,-157 54.5,-157 54.5,-89 226.5,-89 226.5,-157\"/>\n<text text-anchor=\"middle\" x=\"140.5\" y=\"-141.8\" font-family=\"Times,serif\" font-size=\"14.00\" fill=\"#000000\">smoothness error &lt;= 0.003</text>\n<text text-anchor=\"middle\" x=\"140.5\" y=\"-126.8\" font-family=\"Times,serif\" font-size=\"14.00\" fill=\"#000000\">samples = 251</text>\n<text text-anchor=\"middle\" x=\"140.5\" y=\"-111.8\" font-family=\"Times,serif\" font-size=\"14.00\" fill=\"#000000\">value = [3, 248]</text>\n<text text-anchor=\"middle\" x=\"140.5\" y=\"-96.8\" font-family=\"Times,serif\" font-size=\"14.00\" fill=\"#000000\">class = 양성</text>\n</g>\n<!-- 2&#45;&gt;3 -->\n<g id=\"edge3\" class=\"edge\">\n<title>2&#45;&gt;3</title>\n<path fill=\"none\" stroke=\"#000000\" d=\"M242.7295,-192.9465C228.6885,-183.3395 213.286,-172.8009 198.7932,-162.8848\"/>\n<polygon fill=\"#000000\" stroke=\"#000000\" points=\"200.6118,-159.8883 190.3823,-157.13 196.659,-165.6655 200.6118,-159.8883\"/>\n</g>\n<!-- 6 -->\n<g id=\"node7\" class=\"node\">\n<title>6</title>\n<polygon fill=\"#e58139\" stroke=\"#000000\" points=\"340,-149.5 245,-149.5 245,-96.5 340,-96.5 340,-149.5\"/>\n<text text-anchor=\"middle\" x=\"292.5\" y=\"-134.3\" font-family=\"Times,serif\" font-size=\"14.00\" fill=\"#000000\">samples = 1</text>\n<text text-anchor=\"middle\" x=\"292.5\" y=\"-119.3\" font-family=\"Times,serif\" font-size=\"14.00\" fill=\"#000000\">value = [1, 0]</text>\n<text text-anchor=\"middle\" x=\"292.5\" y=\"-104.3\" font-family=\"Times,serif\" font-size=\"14.00\" fill=\"#000000\">class = 악성</text>\n</g>\n<!-- 2&#45;&gt;6 -->\n<g id=\"edge6\" class=\"edge\">\n<title>2&#45;&gt;6</title>\n<path fill=\"none\" stroke=\"#000000\" d=\"M292.5,-192.9465C292.5,-182.2621 292.5,-170.4254 292.5,-159.5742\"/>\n<polygon fill=\"#000000\" stroke=\"#000000\" points=\"296.0001,-159.5421 292.5,-149.5422 289.0001,-159.5422 296.0001,-159.5421\"/>\n</g>\n<!-- 4 -->\n<g id=\"node5\" class=\"node\">\n<title>4</title>\n<polygon fill=\"#7bbeee\" stroke=\"#000000\" points=\"95,-53 0,-53 0,0 95,0 95,-53\"/>\n<text text-anchor=\"middle\" x=\"47.5\" y=\"-37.8\" font-family=\"Times,serif\" font-size=\"14.00\" fill=\"#000000\">samples = 4</text>\n<text text-anchor=\"middle\" x=\"47.5\" y=\"-22.8\" font-family=\"Times,serif\" font-size=\"14.00\" fill=\"#000000\">value = [1, 3]</text>\n<text text-anchor=\"middle\" x=\"47.5\" y=\"-7.8\" font-family=\"Times,serif\" font-size=\"14.00\" fill=\"#000000\">class = 양성</text>\n</g>\n<!-- 3&#45;&gt;4 -->\n<g id=\"edge4\" class=\"edge\">\n<title>3&#45;&gt;4</title>\n<path fill=\"none\" stroke=\"#000000\" d=\"M107.7117,-88.9777C98.7986,-79.7292 89.1473,-69.7147 80.2371,-60.4691\"/>\n<polygon fill=\"#000000\" stroke=\"#000000\" points=\"82.7378,-58.0202 73.2783,-53.2485 77.6975,-62.8777 82.7378,-58.0202\"/>\n</g>\n<!-- 5 -->\n<g id=\"node6\" class=\"node\">\n<title>5</title>\n<polygon fill=\"#3b9ee5\" stroke=\"#000000\" points=\"223.5,-53 113.5,-53 113.5,0 223.5,0 223.5,-53\"/>\n<text text-anchor=\"middle\" x=\"168.5\" y=\"-37.8\" font-family=\"Times,serif\" font-size=\"14.00\" fill=\"#000000\">samples = 247</text>\n<text text-anchor=\"middle\" x=\"168.5\" y=\"-22.8\" font-family=\"Times,serif\" font-size=\"14.00\" fill=\"#000000\">value = [2, 245]</text>\n<text text-anchor=\"middle\" x=\"168.5\" y=\"-7.8\" font-family=\"Times,serif\" font-size=\"14.00\" fill=\"#000000\">class = 양성</text>\n</g>\n<!-- 3&#45;&gt;5 -->\n<g id=\"edge5\" class=\"edge\">\n<title>3&#45;&gt;5</title>\n<path fill=\"none\" stroke=\"#000000\" d=\"M150.3718,-88.9777C152.8161,-80.5533 155.4449,-71.4934 157.9215,-62.9579\"/>\n<polygon fill=\"#000000\" stroke=\"#000000\" points=\"161.3135,-63.8277 160.7388,-53.2485 154.5907,-61.877 161.3135,-63.8277\"/>\n</g>\n<!-- 8 -->\n<g id=\"node9\" class=\"node\">\n<title>8</title>\n<polygon fill=\"#7bbeee\" stroke=\"#000000\" points=\"534.5,-157 358.5,-157 358.5,-89 534.5,-89 534.5,-157\"/>\n<text text-anchor=\"middle\" x=\"446.5\" y=\"-141.8\" font-family=\"Times,serif\" font-size=\"14.00\" fill=\"#000000\">worst smoothness &lt;= 0.179</text>\n<text text-anchor=\"middle\" x=\"446.5\" y=\"-126.8\" font-family=\"Times,serif\" font-size=\"14.00\" fill=\"#000000\">samples = 12</text>\n<text text-anchor=\"middle\" x=\"446.5\" y=\"-111.8\" font-family=\"Times,serif\" font-size=\"14.00\" fill=\"#000000\">value = [3, 9]</text>\n<text text-anchor=\"middle\" x=\"446.5\" y=\"-96.8\" font-family=\"Times,serif\" font-size=\"14.00\" fill=\"#000000\">class = 양성</text>\n</g>\n<!-- 7&#45;&gt;8 -->\n<g id=\"edge8\" class=\"edge\">\n<title>7&#45;&gt;8</title>\n<path fill=\"none\" stroke=\"#000000\" d=\"M460.6238,-192.9465C458.9559,-184.6863 457.1489,-175.7374 455.4023,-167.0875\"/>\n<polygon fill=\"#000000\" stroke=\"#000000\" points=\"458.8018,-166.2394 453.3916,-157.13 451.9402,-167.6249 458.8018,-166.2394\"/>\n</g>\n<!-- 11 -->\n<g id=\"node12\" class=\"node\">\n<title>11</title>\n<polygon fill=\"#e88f4f\" stroke=\"#000000\" points=\"719,-157 552,-157 552,-89 719,-89 719,-157\"/>\n<text text-anchor=\"middle\" x=\"635.5\" y=\"-141.8\" font-family=\"Times,serif\" font-size=\"14.00\" fill=\"#000000\">worst symmetry &lt;= 0.268</text>\n<text text-anchor=\"middle\" x=\"635.5\" y=\"-126.8\" font-family=\"Times,serif\" font-size=\"14.00\" fill=\"#000000\">samples = 20</text>\n<text text-anchor=\"middle\" x=\"635.5\" y=\"-111.8\" font-family=\"Times,serif\" font-size=\"14.00\" fill=\"#000000\">value = [18, 2]</text>\n<text text-anchor=\"middle\" x=\"635.5\" y=\"-96.8\" font-family=\"Times,serif\" font-size=\"14.00\" fill=\"#000000\">class = 악성</text>\n</g>\n<!-- 7&#45;&gt;11 -->\n<g id=\"edge11\" class=\"edge\">\n<title>7&#45;&gt;11</title>\n<path fill=\"none\" stroke=\"#000000\" d=\"M522.5095,-192.9465C538.1736,-183.2497 555.3707,-172.6039 571.5196,-162.6069\"/>\n<polygon fill=\"#000000\" stroke=\"#000000\" points=\"573.7065,-165.3695 580.3669,-157.13 570.022,-159.4177 573.7065,-165.3695\"/>\n</g>\n<!-- 9 -->\n<g id=\"node10\" class=\"node\">\n<title>9</title>\n<polygon fill=\"#4fa8e8\" stroke=\"#000000\" points=\"384,-53 289,-53 289,0 384,0 384,-53\"/>\n<text text-anchor=\"middle\" x=\"336.5\" y=\"-37.8\" font-family=\"Times,serif\" font-size=\"14.00\" fill=\"#000000\">samples = 10</text>\n<text text-anchor=\"middle\" x=\"336.5\" y=\"-22.8\" font-family=\"Times,serif\" font-size=\"14.00\" fill=\"#000000\">value = [1, 9]</text>\n<text text-anchor=\"middle\" x=\"336.5\" y=\"-7.8\" font-family=\"Times,serif\" font-size=\"14.00\" fill=\"#000000\">class = 양성</text>\n</g>\n<!-- 8&#45;&gt;9 -->\n<g id=\"edge9\" class=\"edge\">\n<title>8&#45;&gt;9</title>\n<path fill=\"none\" stroke=\"#000000\" d=\"M407.7181,-88.9777C396.967,-79.546 385.3078,-69.3178 374.5962,-59.9208\"/>\n<polygon fill=\"#000000\" stroke=\"#000000\" points=\"376.816,-57.2122 366.9905,-53.2485 372.1996,-62.4743 376.816,-57.2122\"/>\n</g>\n<!-- 10 -->\n<g id=\"node11\" class=\"node\">\n<title>10</title>\n<polygon fill=\"#e58139\" stroke=\"#000000\" points=\"497,-53 402,-53 402,0 497,0 497,-53\"/>\n<text text-anchor=\"middle\" x=\"449.5\" y=\"-37.8\" font-family=\"Times,serif\" font-size=\"14.00\" fill=\"#000000\">samples = 2</text>\n<text text-anchor=\"middle\" x=\"449.5\" y=\"-22.8\" font-family=\"Times,serif\" font-size=\"14.00\" fill=\"#000000\">value = [2, 0]</text>\n<text text-anchor=\"middle\" x=\"449.5\" y=\"-7.8\" font-family=\"Times,serif\" font-size=\"14.00\" fill=\"#000000\">class = 악성</text>\n</g>\n<!-- 8&#45;&gt;10 -->\n<g id=\"edge10\" class=\"edge\">\n<title>8&#45;&gt;10</title>\n<path fill=\"none\" stroke=\"#000000\" d=\"M447.5577,-88.9777C447.8139,-80.7364 448.089,-71.887 448.3493,-63.5153\"/>\n<polygon fill=\"#000000\" stroke=\"#000000\" points=\"451.8559,-63.3524 448.6684,-53.2485 444.8593,-63.1349 451.8559,-63.3524\"/>\n</g>\n<!-- 12 -->\n<g id=\"node13\" class=\"node\">\n<title>12</title>\n<polygon fill=\"#9ccef2\" stroke=\"#000000\" points=\"621,-53 526,-53 526,0 621,0 621,-53\"/>\n<text text-anchor=\"middle\" x=\"573.5\" y=\"-37.8\" font-family=\"Times,serif\" font-size=\"14.00\" fill=\"#000000\">samples = 3</text>\n<text text-anchor=\"middle\" x=\"573.5\" y=\"-22.8\" font-family=\"Times,serif\" font-size=\"14.00\" fill=\"#000000\">value = [1, 2]</text>\n<text text-anchor=\"middle\" x=\"573.5\" y=\"-7.8\" font-family=\"Times,serif\" font-size=\"14.00\" fill=\"#000000\">class = 양성</text>\n</g>\n<!-- 11&#45;&gt;12 -->\n<g id=\"edge12\" class=\"edge\">\n<title>11&#45;&gt;12</title>\n<path fill=\"none\" stroke=\"#000000\" d=\"M613.6411,-88.9777C607.9932,-80.187 601.9007,-70.7044 596.2104,-61.8477\"/>\n<polygon fill=\"#000000\" stroke=\"#000000\" points=\"599.0356,-59.7698 590.6856,-53.2485 593.1463,-63.5536 599.0356,-59.7698\"/>\n</g>\n<!-- 13 -->\n<g id=\"node14\" class=\"node\">\n<title>13</title>\n<polygon fill=\"#e58139\" stroke=\"#000000\" points=\"741.5,-53 639.5,-53 639.5,0 741.5,0 741.5,-53\"/>\n<text text-anchor=\"middle\" x=\"690.5\" y=\"-37.8\" font-family=\"Times,serif\" font-size=\"14.00\" fill=\"#000000\">samples = 17</text>\n<text text-anchor=\"middle\" x=\"690.5\" y=\"-22.8\" font-family=\"Times,serif\" font-size=\"14.00\" fill=\"#000000\">value = [17, 0]</text>\n<text text-anchor=\"middle\" x=\"690.5\" y=\"-7.8\" font-family=\"Times,serif\" font-size=\"14.00\" fill=\"#000000\">class = 악성</text>\n</g>\n<!-- 11&#45;&gt;13 -->\n<g id=\"edge13\" class=\"edge\">\n<title>11&#45;&gt;13</title>\n<path fill=\"none\" stroke=\"#000000\" d=\"M654.8909,-88.9777C659.849,-80.2786 665.1933,-70.9018 670.1958,-62.1247\"/>\n<polygon fill=\"#000000\" stroke=\"#000000\" points=\"673.3438,-63.6696 675.2548,-53.2485 667.2622,-60.2033 673.3438,-63.6696\"/>\n</g>\n<!-- 15 -->\n<g id=\"node16\" class=\"node\">\n<title>15</title>\n<polygon fill=\"#399de5\" stroke=\"#000000\" points=\"709,-253.5 614,-253.5 614,-200.5 709,-200.5 709,-253.5\"/>\n<text text-anchor=\"middle\" x=\"661.5\" y=\"-238.3\" font-family=\"Times,serif\" font-size=\"14.00\" fill=\"#000000\">samples = 5</text>\n<text text-anchor=\"middle\" x=\"661.5\" y=\"-223.3\" font-family=\"Times,serif\" font-size=\"14.00\" fill=\"#000000\">value = [0, 5]</text>\n<text text-anchor=\"middle\" x=\"661.5\" y=\"-208.3\" font-family=\"Times,serif\" font-size=\"14.00\" fill=\"#000000\">class = 양성</text>\n</g>\n<!-- 14&#45;&gt;15 -->\n<g id=\"edge15\" class=\"edge\">\n<title>14&#45;&gt;15</title>\n<path fill=\"none\" stroke=\"#000000\" d=\"M661.5,-296.9465C661.5,-286.2621 661.5,-274.4254 661.5,-263.5742\"/>\n<polygon fill=\"#000000\" stroke=\"#000000\" points=\"665.0001,-263.5421 661.5,-253.5422 658.0001,-263.5422 665.0001,-263.5421\"/>\n</g>\n<!-- 16 -->\n<g id=\"node17\" class=\"node\">\n<title>16</title>\n<polygon fill=\"#e6843d\" stroke=\"#000000\" points=\"898,-261 733,-261 733,-193 898,-193 898,-261\"/>\n<text text-anchor=\"middle\" x=\"815.5\" y=\"-245.8\" font-family=\"Times,serif\" font-size=\"14.00\" fill=\"#000000\">worst concavity &lt;= 0.191</text>\n<text text-anchor=\"middle\" x=\"815.5\" y=\"-230.8\" font-family=\"Times,serif\" font-size=\"14.00\" fill=\"#000000\">samples = 137</text>\n<text text-anchor=\"middle\" x=\"815.5\" y=\"-215.8\" font-family=\"Times,serif\" font-size=\"14.00\" fill=\"#000000\">value = [134, 3]</text>\n<text text-anchor=\"middle\" x=\"815.5\" y=\"-200.8\" font-family=\"Times,serif\" font-size=\"14.00\" fill=\"#000000\">class = 악성</text>\n</g>\n<!-- 14&#45;&gt;16 -->\n<g id=\"edge16\" class=\"edge\">\n<title>14&#45;&gt;16</title>\n<path fill=\"none\" stroke=\"#000000\" d=\"M711.9254,-296.9465C726.1512,-287.3395 741.7563,-276.8009 756.4398,-266.8848\"/>\n<polygon fill=\"#000000\" stroke=\"#000000\" points=\"758.6329,-269.6272 764.9614,-261.13 754.7153,-263.8261 758.6329,-269.6272\"/>\n</g>\n<!-- 17 -->\n<g id=\"node18\" class=\"node\">\n<title>17</title>\n<polygon fill=\"#bddef6\" stroke=\"#000000\" points=\"893.5,-157 737.5,-157 737.5,-89 893.5,-89 893.5,-157\"/>\n<text text-anchor=\"middle\" x=\"815.5\" y=\"-141.8\" font-family=\"Times,serif\" font-size=\"14.00\" fill=\"#000000\">worst texture &lt;= 30.975</text>\n<text text-anchor=\"middle\" x=\"815.5\" y=\"-126.8\" font-family=\"Times,serif\" font-size=\"14.00\" fill=\"#000000\">samples = 5</text>\n<text text-anchor=\"middle\" x=\"815.5\" y=\"-111.8\" font-family=\"Times,serif\" font-size=\"14.00\" fill=\"#000000\">value = [2, 3]</text>\n<text text-anchor=\"middle\" x=\"815.5\" y=\"-96.8\" font-family=\"Times,serif\" font-size=\"14.00\" fill=\"#000000\">class = 양성</text>\n</g>\n<!-- 16&#45;&gt;17 -->\n<g id=\"edge17\" class=\"edge\">\n<title>16&#45;&gt;17</title>\n<path fill=\"none\" stroke=\"#000000\" d=\"M815.5,-192.9465C815.5,-184.776 815.5,-175.9318 815.5,-167.3697\"/>\n<polygon fill=\"#000000\" stroke=\"#000000\" points=\"819.0001,-167.13 815.5,-157.13 812.0001,-167.13 819.0001,-167.13\"/>\n</g>\n<!-- 20 -->\n<g id=\"node21\" class=\"node\">\n<title>20</title>\n<polygon fill=\"#e58139\" stroke=\"#000000\" points=\"1021.5,-149.5 911.5,-149.5 911.5,-96.5 1021.5,-96.5 1021.5,-149.5\"/>\n<text text-anchor=\"middle\" x=\"966.5\" y=\"-134.3\" font-family=\"Times,serif\" font-size=\"14.00\" fill=\"#000000\">samples = 132</text>\n<text text-anchor=\"middle\" x=\"966.5\" y=\"-119.3\" font-family=\"Times,serif\" font-size=\"14.00\" fill=\"#000000\">value = [132, 0]</text>\n<text text-anchor=\"middle\" x=\"966.5\" y=\"-104.3\" font-family=\"Times,serif\" font-size=\"14.00\" fill=\"#000000\">class = 악성</text>\n</g>\n<!-- 16&#45;&gt;20 -->\n<g id=\"edge20\" class=\"edge\">\n<title>16&#45;&gt;20</title>\n<path fill=\"none\" stroke=\"#000000\" d=\"M864.943,-192.9465C882.5351,-180.8301 902.2785,-167.232 919.647,-155.2696\"/>\n<polygon fill=\"#000000\" stroke=\"#000000\" points=\"921.7125,-158.0969 927.9628,-149.5422 917.7419,-152.332 921.7125,-158.0969\"/>\n</g>\n<!-- 18 -->\n<g id=\"node19\" class=\"node\">\n<title>18</title>\n<polygon fill=\"#399de5\" stroke=\"#000000\" points=\"860,-53 765,-53 765,0 860,0 860,-53\"/>\n<text text-anchor=\"middle\" x=\"812.5\" y=\"-37.8\" font-family=\"Times,serif\" font-size=\"14.00\" fill=\"#000000\">samples = 3</text>\n<text text-anchor=\"middle\" x=\"812.5\" y=\"-22.8\" font-family=\"Times,serif\" font-size=\"14.00\" fill=\"#000000\">value = [0, 3]</text>\n<text text-anchor=\"middle\" x=\"812.5\" y=\"-7.8\" font-family=\"Times,serif\" font-size=\"14.00\" fill=\"#000000\">class = 양성</text>\n</g>\n<!-- 17&#45;&gt;18 -->\n<g id=\"edge18\" class=\"edge\">\n<title>17&#45;&gt;18</title>\n<path fill=\"none\" stroke=\"#000000\" d=\"M814.4423,-88.9777C814.1861,-80.7364 813.911,-71.887 813.6507,-63.5153\"/>\n<polygon fill=\"#000000\" stroke=\"#000000\" points=\"817.1407,-63.1349 813.3316,-53.2485 810.1441,-63.3524 817.1407,-63.1349\"/>\n</g>\n<!-- 19 -->\n<g id=\"node20\" class=\"node\">\n<title>19</title>\n<polygon fill=\"#e58139\" stroke=\"#000000\" points=\"973,-53 878,-53 878,0 973,0 973,-53\"/>\n<text text-anchor=\"middle\" x=\"925.5\" y=\"-37.8\" font-family=\"Times,serif\" font-size=\"14.00\" fill=\"#000000\">samples = 2</text>\n<text text-anchor=\"middle\" x=\"925.5\" y=\"-22.8\" font-family=\"Times,serif\" font-size=\"14.00\" fill=\"#000000\">value = [2, 0]</text>\n<text text-anchor=\"middle\" x=\"925.5\" y=\"-7.8\" font-family=\"Times,serif\" font-size=\"14.00\" fill=\"#000000\">class = 악성</text>\n</g>\n<!-- 17&#45;&gt;19 -->\n<g id=\"edge19\" class=\"edge\">\n<title>17&#45;&gt;19</title>\n<path fill=\"none\" stroke=\"#000000\" d=\"M854.2819,-88.9777C865.033,-79.546 876.6922,-69.3178 887.4038,-59.9208\"/>\n<polygon fill=\"#000000\" stroke=\"#000000\" points=\"889.8004,-62.4743 895.0095,-53.2485 885.184,-57.2122 889.8004,-62.4743\"/>\n</g>\n</g>\n</svg>\n"
          },
          "metadata": {}
        }
      ]
    },
    {
      "cell_type": "markdown",
      "metadata": {
        "id": "TyUBl6DOuY7A"
      },
      "source": [
        "### 참고자료\n",
        "\n",
        "- [머신러닝 - 4. 결정 트리](https://bkshin.tistory.com/entry/%EB%A8%B8%EC%8B%A0%EB%9F%AC%EB%8B%9D-4-%EA%B2%B0%EC%A0%95-%ED%8A%B8%EB%A6%ACDecision-Tree)\n",
        "- [텐서 플로우 블로그 - 2.3.4 결정트리](https://tensorflow.blog/%ED%8C%8C%EC%9D%B4%EC%8D%AC-%EB%A8%B8%EC%8B%A0%EB%9F%AC%EB%8B%9D/2-3-5-%EA%B2%B0%EC%A0%95-%ED%8A%B8%EB%A6%AC/#4)\n",
        "\n",
        "- [유튜브 허민석 - 의사결정트리 알고리즘 쉽게 이해하기](https://youtu.be/n0p0120Gxqk)\n",
        "\n"
      ]
    }
  ]
}